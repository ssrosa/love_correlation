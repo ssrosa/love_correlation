{
 "cells": [
  {
   "cell_type": "markdown",
   "metadata": {},
   "source": [
    "# The Soulmate Statistic\n",
    "### Heartbreak, salvation, & statistical significance on NBC's *The Good Place*\n",
    "\n",
    "This notebook is a companion to my Medium post.\n",
    "\n",
    "*The Good Place* contains a lot of data but it isn't easy to extract. The dialogue in each episode is strewn with throw-away lines that hint at the numbers that quantify the universe depicted in the show. I wanted to get all the numerical dialogue, so I scraped the scripts from [a website](https://www.springfieldspringfield.co.uk/) that posts the scripts of TV shows.\n",
    "\n",
    "I needed intact lines of dialogue, searchable by keywords, so it wasn't necessary to use regular expressions or word vectorization. My functions scrape the scripts as strings, do just enough cleaning to make the lines readable and searchable, and organize it all to allow me to track episodes and seasons."
   ]
  },
  {
   "cell_type": "code",
   "execution_count": 1,
   "metadata": {},
   "outputs": [],
   "source": [
    "import pandas as pd\n",
    "import numpy as np\n",
    "import math\n",
    "import matplotlib.pyplot as plt\n",
    "import seaborn as sns\n",
    "from bs4 import BeautifulSoup #For web scraping\n",
    "import time # To delay scraping \n",
    "import requests\n",
    "\n",
    "import copy #To deep-copy dict of script strings\n",
    "import random\n",
    "\n",
    "import soulmate #A .py file with my custom functions for cleaning and printing\n",
    "from soulmate import get_season_urls, get_script, clean, remove_linebreak, \\\n",
    "                    remove_whitespace, find_lines, is_topical, print_lines\n",
    "\n",
    "#For hypothesis testing:\n",
    "from scipy import stats #To find t and p values with ttests\n",
    "from scipy.stats import binom # To build binomial distributions for platonic/romantic"
   ]
  },
  {
   "cell_type": "markdown",
   "metadata": {},
   "source": [
    "With these functions I'm ready to get the scripts from the website."
   ]
  },
  {
   "cell_type": "code",
   "execution_count": 2,
   "metadata": {},
   "outputs": [],
   "source": [
    "#to append to the beginning of URL scraped from website\n",
    "url_head = 'https://www.springfieldspringfield.co.uk/'\n",
    "\n",
    "#Gather the URLs for each script page, by season\n",
    "s01_urls = get_season_urls(url_head, 'episode_scripts.php?tv-show=the-good-place-2016&season=1')\n",
    "s02_urls = get_season_urls(url_head, 'episode_scripts.php?tv-show=the-good-place-2016&season=2')\n",
    "s03_urls = get_season_urls(url_head, 'episode_scripts.php?tv-show=the-good-place-2016&season=3')\n",
    "\n",
    "#Need to correct for some inaccuracies in the episode numbering on the website.\n",
    "\n",
    "#Step 1: \n",
    "#Get s01e01, s2e01, and s03e01\n",
    "s01e01 = s01_urls.iloc[[0]]\n",
    "s02e01 = s02_urls.iloc[[0]]\n",
    "s03e01 = s03_urls.iloc[[0]]\n",
    "\n",
    "#Step 2:\n",
    "#Correct episode number for season 1 episode 2\n",
    "s01_urls.at[0, 'episode'] += 1\n",
    "\n",
    "#Correct episode numbers for all of season 2 and 3\n",
    "s02_urls['episode'] = [ep + 1 for ep in s02_urls['episode']]    \n",
    "s03_urls['episode'] = [ep + 1 for ep in s03_urls['episode']]  \n",
    "\n",
    "#Step 3:\n",
    "#Append the rest of each season to the first episode\n",
    "s01_urls = pd.concat([s01e01, s01_urls], axis = 0, ignore_index = True)\n",
    "s02_urls = pd.concat([s02e01, s02_urls], axis = 0, ignore_index = True)\n",
    "s03_urls = pd.concat([s03e01, s03_urls], axis = 0, ignore_index = True)\n",
    "\n",
    "#Okay, now we can continue\n",
    "#Combine into one dataframe with all urls for scripts\n",
    "season_urls = pd.concat([s01_urls, \n",
    "                         s02_urls, \n",
    "                         s03_urls], \n",
    "                        axis = 0, ignore_index = True)\n",
    "\n",
    "#Remove numbering from title strings\n",
    "#Should capture single- and double-digit numbers\n",
    "#Iterate over each row in the season_urls DF\n",
    "for index, title in enumerate(season_urls['title']):\n",
    "    #Begin to iterate over each character in a title\n",
    "    for i, char in enumerate(list(title)):\n",
    "        #If the character is not a numeral, space, or period\n",
    "        if char.isalpha():\n",
    "            #Change the title to begin with this character\n",
    "            season_urls.at[index, 'title'] = title[i:]\n",
    "            #Stop iterating\n",
    "            break\n",
    "\n",
    "#Correct the episode titles for s1e1, s1e2, s2e2, s3e2\n",
    "season_urls.at[0, 'title'] = 'Everything Is Fine' #s1e1\n",
    "season_urls.at[1, 'title'] = 'Flying' #s1e2\n",
    "season_urls.at[14, 'title'] += ' Part 2' #s2e2\n",
    "season_urls.at[27, 'title'] += ' Part 2' #s3e2"
   ]
  },
  {
   "cell_type": "code",
   "execution_count": 3,
   "metadata": {
    "scrolled": false
   },
   "outputs": [
    {
     "data": {
      "text/html": [
       "<div>\n",
       "<style scoped>\n",
       "    .dataframe tbody tr th:only-of-type {\n",
       "        vertical-align: middle;\n",
       "    }\n",
       "\n",
       "    .dataframe tbody tr th {\n",
       "        vertical-align: top;\n",
       "    }\n",
       "\n",
       "    .dataframe thead th {\n",
       "        text-align: right;\n",
       "    }\n",
       "</style>\n",
       "<table border=\"1\" class=\"dataframe\">\n",
       "  <thead>\n",
       "    <tr style=\"text-align: right;\">\n",
       "      <th></th>\n",
       "      <th>url</th>\n",
       "      <th>season</th>\n",
       "      <th>episode</th>\n",
       "      <th>title</th>\n",
       "    </tr>\n",
       "  </thead>\n",
       "  <tbody>\n",
       "    <tr>\n",
       "      <th>0</th>\n",
       "      <td>view_episode_scripts.php?tv-show=the-good-plac...</td>\n",
       "      <td>1</td>\n",
       "      <td>1</td>\n",
       "      <td>Everything Is Fine</td>\n",
       "    </tr>\n",
       "    <tr>\n",
       "      <th>1</th>\n",
       "      <td>view_episode_scripts.php?tv-show=the-good-plac...</td>\n",
       "      <td>1</td>\n",
       "      <td>2</td>\n",
       "      <td>Flying</td>\n",
       "    </tr>\n",
       "    <tr>\n",
       "      <th>2</th>\n",
       "      <td>view_episode_scripts.php?tv-show=the-good-plac...</td>\n",
       "      <td>1</td>\n",
       "      <td>3</td>\n",
       "      <td>Tahani Al-Jamil</td>\n",
       "    </tr>\n",
       "    <tr>\n",
       "      <th>3</th>\n",
       "      <td>view_episode_scripts.php?tv-show=the-good-plac...</td>\n",
       "      <td>1</td>\n",
       "      <td>4</td>\n",
       "      <td>Jason Mendoza</td>\n",
       "    </tr>\n",
       "    <tr>\n",
       "      <th>4</th>\n",
       "      <td>view_episode_scripts.php?tv-show=the-good-plac...</td>\n",
       "      <td>1</td>\n",
       "      <td>5</td>\n",
       "      <td>Category 55 Emergency Doomsday Crisis</td>\n",
       "    </tr>\n",
       "  </tbody>\n",
       "</table>\n",
       "</div>"
      ],
      "text/plain": [
       "                                                 url  season  episode  \\\n",
       "0  view_episode_scripts.php?tv-show=the-good-plac...       1        1   \n",
       "1  view_episode_scripts.php?tv-show=the-good-plac...       1        2   \n",
       "2  view_episode_scripts.php?tv-show=the-good-plac...       1        3   \n",
       "3  view_episode_scripts.php?tv-show=the-good-plac...       1        4   \n",
       "4  view_episode_scripts.php?tv-show=the-good-plac...       1        5   \n",
       "\n",
       "                                   title  \n",
       "0                     Everything Is Fine  \n",
       "1                                 Flying  \n",
       "2                        Tahani Al-Jamil  \n",
       "3                          Jason Mendoza  \n",
       "4  Category 55 Emergency Doomsday Crisis  "
      ]
     },
     "execution_count": 3,
     "metadata": {},
     "output_type": "execute_result"
    }
   ],
   "source": [
    "#Take a look at the df that we'll use to scrape scripts\n",
    "#from 39 webpages\n",
    "season_urls.head()"
   ]
  },
  {
   "cell_type": "markdown",
   "metadata": {},
   "source": [
    "### Scrape scripts from the website"
   ]
  },
  {
   "cell_type": "code",
   "execution_count": 4,
   "metadata": {},
   "outputs": [],
   "source": [
    "#Build dict of episode titles indexed by tuples of (season, episode)\n",
    "#(Dict of scripts will be indexed by the same tuples)\n",
    "titles = {(row.season, row.episode): row.title for row in season_urls.itertuples(index = False)}\n",
    "\n",
    "#Empty dict of raw script strings\n",
    "raw_scripts = {}\n",
    "\n",
    "#Iterate over rows of the script_urls DF as tuples\n",
    "#Populate dict of raw scripts\n",
    "#Includes a time lag so that the remote server\n",
    "#doesn't get too many requests too fast.\n",
    "for row in season_urls.itertuples(index = False):\n",
    "    #Script key will be a tuple of (season, episode)\n",
    "    script_key = (row.season, row.episode)\n",
    "    #Get script by scraping site and append to dict\n",
    "    raw_scripts[script_key] = get_script(url_head, row.url)\n",
    "    #Wait before pinging server again\n",
    "    time.sleep(1)"
   ]
  },
  {
   "cell_type": "code",
   "execution_count": 5,
   "metadata": {},
   "outputs": [],
   "source": [
    "#Correct for duplication of certain scripts by splitting them\n",
    "#Chop up s1e1 and s1e2; s1e12 and s1e13; s2e1 and s2e2; and s3e1 and s3e2\n",
    "\n",
    "#Chop up s1e1 and s1e2    line 350 and 351  What's it gonna be? [knock at door] [thunder crashes] Oh, stomachache.\n",
    "raw_scripts[(1,1)] = raw_scripts[(1,1)][:21547]\n",
    "raw_scripts[(1,2)] = raw_scripts[(1,2)][21547:]\n",
    "#Chop up s1e12 and s1e13   (326, ' You have 30 minutes.') 21387\n",
    "raw_scripts[(1,12)] = raw_scripts[(1,12)][:21387]\n",
    "raw_scripts[(1,13)] = raw_scripts[(1,13)][21387:]\n",
    "#Chop up s2e1 and s2e2\n",
    "raw_scripts[(2,1)] = raw_scripts[(2,1)][:24800]\n",
    "raw_scripts[(2,2)] = raw_scripts[(2,2)][24800:]\n",
    "#Chop up s3e1 and s3e2\n",
    "raw_scripts[(3,1)] = raw_scripts[(3,1)][:22554]\n",
    "raw_scripts[(3,2)] = raw_scripts[(3,2)][22554:]"
   ]
  },
  {
   "cell_type": "code",
   "execution_count": 6,
   "metadata": {},
   "outputs": [],
   "source": [
    "#Now we can continue\n",
    "#Make a new dict of scripts to clean up\n",
    "scripts = copy.deepcopy(raw_scripts)\n",
    "\n",
    "#Clean all scripts to turn each into a list of strings of dialogue\n",
    "for key, val in scripts.items():\n",
    "    scripts[key] = clean(val)"
   ]
  },
  {
   "cell_type": "markdown",
   "metadata": {},
   "source": [
    "# Looking for topics in the scripts\n",
    "\n",
    "I used my custom functions to hunt for topical words in the scripts and then used the line numbers to look at the surrounding dialogue in each script. You can read through the scripts in their entirety or just read the lists of topical lines returned by the functions."
   ]
  },
  {
   "cell_type": "code",
   "execution_count": null,
   "metadata": {},
   "outputs": [],
   "source": [
    "#You can browse a whole script like this.\n",
    "scripts[(3,12)]"
   ]
  },
  {
   "cell_type": "code",
   "execution_count": null,
   "metadata": {},
   "outputs": [],
   "source": [
    "#Or look up titles like this\n",
    "titles[(3, 12)]"
   ]
  },
  {
   "cell_type": "code",
   "execution_count": 7,
   "metadata": {
    "scrolled": true
   },
   "outputs": [
    {
     "data": {
      "text/plain": [
       "[(0,\n",
       "  '<div class=\"scrolling-script-container\"> \\n \\n \\n \\t\\t\\t1 [upbeat music] - What are you doing? - [gasps] Dude, I\\'m freaked out about my meeting with Michael, and if I spend one more second staring at Creepo the Clown, I\\'m gonna lose it.'),\n",
       " (5,\n",
       "  \"In five minutes, Michael wants my help investigating what's making the neighborhood go nuts, which is obviously me.\"),\n",
       " (17, 'Well, my first rule would be that no one can veto my rules.'),\n",
       " (30, \"[clears throat] Oh, I forgot, you don't see in nine dimensions.\"),\n",
       " (38, 'I even watched all ten seasons of the show \"Friends.'),\n",
       " (87,\n",
       "  \"So couples date! Let's go! I never really looked around your office the first day.\"),\n",
       " (96, 'These 78 are the most suspicious.'),\n",
       " (121, 'They are a couple, and I am a third part of that couple.'),\n",
       " (123, \"It's a three-person couple.\"),\n",
       " (140,\n",
       "  'I thought transition would be easier if the architect were on-site for at least the first 1,000 years or so.'),\n",
       " (152,\n",
       "  \"Now, what should we do first? both: I'm going out In a blaze of glory Lord, I never drew first But I drew first blood And I'm no one's son So call me young gun Whoo! This is so interesting! I mean, there's no point to it.\"),\n",
       " (156, 'Okay, my hands are heated to the ideal 105 degrees.'),\n",
       " (157,\n",
       "  \"Who would like to go first? Oh, well what if I go first, and then perhaps Jianyu could stand near me and share some intimate aspects of his life? Or what if while Janet messages Tahani, I massage Jianyu? Jianyu, darling, let's discuss the arts.\"),\n",
       " (204,\n",
       "  'And do you like France as much as I do? Well, they enslaved my country for 300 years.'),\n",
       " (208, 'Welcome to my cafe, you two.'),\n",
       " (224,\n",
       "  \"Oh! We need to celebrate! I know, okay Paper clip shower! So do you think we're looking for a man, or do you think we're looking for two men? Not sure.\"),\n",
       " (247, 'There were a total of 30 people here that night.'),\n",
       " (248,\n",
       "  '[laughs] Only 30, huh? How do you pump your fists again? Is this it? But 66 others passed through to take a look before it opened, and everyone else in the neighborhood was in a close radius.'),\n",
       " (257,\n",
       "  'I feel like \"Friends\" in season eight, out of ideas and forcing Joey and Rachel together, even though it made no sense.'),\n",
       " (271,\n",
       "  \"If you want to look at a million rocks like a psychopath, I'll be there.\"),\n",
       " (282, \"It's three of me.\")]"
      ]
     },
     "execution_count": 7,
     "metadata": {},
     "output_type": "execute_result"
    }
   ],
   "source": [
    "#Make a list of topics you want to look for.\n",
    "number_words = ['two', 'three', 'four', 'five', 'six', 'seven', 'eight', 'nine', ' ten ',\n",
    "           'eleven', 'twelve', 'thirteen', 'fourteen', 'fifteen', 'sixteen', 'seventeen', 'eighteen', 'nineteen',\n",
    "           'twenty', 'thirty', 'forty', 'fifty', 'sixty', 'seventy', 'eighty', 'ninety',\n",
    "            'hundred', 'thousand', 'million', 'billion', 'trilion',\n",
    "            'first', 'second', 'third', 'fifth', 'ninth']\n",
    "#Then call find_lines on the dict of scripts to hunt for your topics.\n",
    "#A new dict of script with only the topical lines will be returned.\n",
    "number_lines = find_lines(number_words, scripts, numerals = True)\n",
    "\n",
    "#Then you can look at all the relevant lines, or just the relevant lines from one script.\n",
    "number_lines[(1,6)]"
   ]
  },
  {
   "cell_type": "markdown",
   "metadata": {},
   "source": [
    "# Michael's attempt log"
   ]
  },
  {
   "cell_type": "code",
   "execution_count": null,
   "metadata": {},
   "outputs": [],
   "source": [
    "temporal = ['point', 'points', 'second', 'seconds',  'minute',\n",
    "              'minutes', 'day', 'days', 'week', 'weeks', \n",
    "              'month', 'months', 'year', 'years', 'time', 'times',\n",
    "             'people', 'humans', 'attempt', 'attempts',\n",
    "              'try', 'tries', 'version', 'versions']\n",
    "all_temporal = find_lines(temporal, number_lines)\n",
    "print_lines(titles, all_temporal)"
   ]
  },
  {
   "cell_type": "code",
   "execution_count": null,
   "metadata": {},
   "outputs": [],
   "source": [
    "three00 = ['300', 'three hundred']\n",
    "three00_lines = find_lines(three00, scripts)\n",
    "print_lines(titles, three00_lines)"
   ]
  },
  {
   "cell_type": "markdown",
   "metadata": {},
   "source": [
    "### Lines with data about the attempts:\n",
    "\n",
    "S2 ep 4, Team Cockroach:\n",
    "\n",
    " (93, 'How many different versions of this place have we been through? Uh, let's see.\"),\n",
    " (94, ' 802.'),\n",
    " (95, ' The longest one was 11 months.'),\n",
    " (96, ' Uh, this current one has only been going for one week.'),\n",
    " (97, ' Boy, you guys barely know each other.'),\n",
    " (98, \" It's gonna make this tough.\"),\n",
    " (99, \" What's that super tiny line? That's the shortest one, eight seconds.\"),\n",
    " (100, ' It was a butt reboot.'),\n",
    " (101, ' I sat on the activator by mistake.')\n",
    " \n",
    " s3 ep 5, Jeremy Bearimy:\n",
    " \n",
    " So all the attempts you made to torture us we must have been in the afterlife for 100 years.'),\n",
    " (62, ' Almost 300, actually.')\n",
    " \n",
    "### Reconstructing the distribution\n",
    "\n",
    "Armed with this data, we can create a distribution with parameters similar to Michael's and then plot it."
   ]
  },
  {
   "cell_type": "code",
   "execution_count": 2,
   "metadata": {
    "scrolled": true
   },
   "outputs": [
    {
     "data": {
      "text/plain": [
       "307.75342465753425"
      ]
     },
     "execution_count": 2,
     "metadata": {},
     "output_type": "execute_result"
    }
   ],
   "source": [
    "random.seed(11)\n",
    "\n",
    "#We don't know the mean or standard deviation\n",
    "\n",
    "#How long it took Eleanor to figure out she wasn't in The Good Place\n",
    "#max: 11 months  at 770th attempt\n",
    "max_ = 334\n",
    "max_index = (771)\n",
    "\n",
    "#min: 8 seconds at 556th attempt\n",
    "min_ = 8 / 86400\n",
    "min_index = (557)\n",
    "\n",
    "#total attempts: 802\n",
    "pop_size = 802\n",
    "\n",
    "#This distribution gets pretty close. \n",
    "#Use 800 random values with a max of 9 1/4 months (277 days)\n",
    "attempts = np.random.randint(low = 10, high = 277, size = pop_size - 2)\n",
    "\n",
    "#manually add an 8-second value and an 11-month value.\n",
    "attempts = np.insert(attempts, min_index, min_)\n",
    "attempts = np.insert(attempts, max_index, max_)\n",
    "\n",
    "#All attempts together should add up to around 300 years\n",
    "attempts.sum() / 365"
   ]
  },
  {
   "cell_type": "code",
   "execution_count": 3,
   "metadata": {
    "scrolled": false
   },
   "outputs": [
    {
     "data": {
      "image/png": "[encoded data removed]",
      "text/plain": [
       "<Figure size 1296x576 with 1 Axes>"
      ]
     },
     "metadata": {
      "needs_background": "light"
     },
     "output_type": "display_data"
    }
   ],
   "source": [
    "#Plot attempts as bar graph\n",
    "kwargs = {'fontsize': 'xx-large',\n",
    "          'fontweight': 'extra bold'}\n",
    "#Set y ticks to resemble the ones in the screenshot\n",
    "yticks = np.arange(0, 390, 30)\n",
    "ylabels = [str(x) + ' mos' for x in np.arange(0, 13, 1)]\n",
    "#Draw figure\n",
    "fig = plt.figure(figsize = (18,8))\n",
    "#Draw a grid like in the screenshot\n",
    "plt.grid()\n",
    "#Draw a bar graph like in the screenshot\n",
    "plt.bar(range(pop_size), attempts, color = 'red')\n",
    "plt.xlabel('Attempts', **kwargs)\n",
    "plt.xticks(**kwargs)\n",
    "plt.yticks(yticks, ylabels, **kwargs)\n",
    "plt.title('Reconstructed Attempt Log', **kwargs)\n",
    "plt.show()"
   ]
  },
  {
   "cell_type": "markdown",
   "metadata": {},
   "source": [
    "![attemptlogsmall.png](https://raw.githubusercontent.com/ssrosa/the_soulmate_statistic/master/attemptlogsmall.png)"
   ]
  },
  {
   "cell_type": "markdown",
   "metadata": {},
   "source": [
    "Not bad! With this distribution we can now run statistical tests.\n",
    "\n",
    "### Hypothesis test: one-sample t test with one tail\n",
    "\n",
    "s01e12, 'Mindy St. Claire':\n",
    "\n",
    "(562, Michael: 'I think that we can get them to torture each other for 1,000 years.')\n",
    "(563, Sean: 'I think you'll be lucky to get six months out of this insane gambit.')\n",
    "\n",
    "Michael's guess is too far off to be worth testing. Sean's is much closer to the observed mean of the distribution. 'I think you'll be lucky to get six months out of this insane gambit' is like saying 'I predict you will get less than six months.'\n",
    "\n",
    "\"You will get six months or more\"\n",
    " \n",
    "**Null hypothesis: mu ≥ 6 months**\n",
    "\n",
    "\"You will get less than six months\"\n",
    "\n",
    "**Alternative hypothesis: mu < 6 months**"
   ]
  },
  {
   "cell_type": "code",
   "execution_count": 4,
   "metadata": {
    "scrolled": true
   },
   "outputs": [
    {
     "name": "stdout",
     "output_type": "stream",
     "text": [
      "Test statistic: -14.840414347674871\n",
      "P value: 3.3935199674803e-44\n",
      "Sean's mean: 181 days\n",
      "Sample mean: 140.06234413965086 days\n",
      "P less than alpha? True\n"
     ]
    }
   ],
   "source": [
    "alpha = 0.05\n",
    "seans_mean = (31 * 3) + (30 * 2) + 28 #181 days\n",
    "\n",
    "#Test Sean's mean using Scipy's one-sample t test\n",
    "test_statistic, pvalue = stats.ttest_1samp(attempts, seans_mean)\n",
    "print('Test statistic:', test_statistic)\n",
    "print('P value:', pvalue)\n",
    "print('Sean\\'s mean:', seans_mean, 'days')\n",
    "print('Sample mean:', attempts.mean(), 'days')\n",
    "print('P less than alpha?', alpha > pvalue)"
   ]
  },
  {
   "cell_type": "markdown",
   "metadata": {},
   "source": [
    "### Results\n",
    "\n",
    "Sean's guess was right. The p value is less than the alpha so we reject the null hypothesis that the neighborhood can last as long as or longer than 6 months.\n",
    "\n",
    "It may not be intuitive that Sean's mean is far enough away from the observed mean to be significant. We can see this more clearly in a histogram of the attempts distribution. The tails on a normal distribution would be easier to see than the tails on our attempts distribution. We can take advantage of the Central Limit Theorem to resample the distribution into a new set that looks more 'normal'. "
   ]
  },
  {
   "cell_type": "code",
   "execution_count": 5,
   "metadata": {
    "scrolled": false
   },
   "outputs": [
    {
     "name": "stderr",
     "output_type": "stream",
     "text": [
      "/Users/ssrosa/anaconda3/envs/learn-env/lib/python3.6/site-packages/scipy/stats/stats.py:1713: FutureWarning: Using a non-tuple sequence for multidimensional indexing is deprecated; use `arr[tuple(seq)]` instead of `arr[seq]`. In the future this will be interpreted as an array index, `arr[np.array(seq)]`, which will result either in an error or a different result.\n",
      "  return np.add.reduce(sorted[indexer] * weights, axis=axis) / sumval\n"
     ]
    },
    {
     "data": {
      "image/png": "[encoded data removed]",
      "text/plain": [
       "<Figure size 1296x576 with 1 Axes>"
      ]
     },
     "metadata": {
      "needs_background": "light"
     },
     "output_type": "display_data"
    }
   ],
   "source": [
    "#Build a new distribution using a 1000 means of random samples of size 30 from attempts.\n",
    "sampled_attempts = [np.random.choice(attempts, size = 30, \\\n",
    "                        replace = True).mean() for i in range(1000)]\n",
    "\n",
    "#The upper bound marks the highest possible that an event in the distribution \n",
    "#can have without being statistically significant.\n",
    "upper_bound = np.percentile(sampled_attempts, 97.5)\n",
    "\n",
    "#Mark the x axix from 2 months to 7 months\n",
    "xticks = np.arange(75, 195, 15)\n",
    "xlabels = [str(x) + ' mos' for x in np.arange(2.5, 7, .5)]\n",
    "\n",
    "fig = plt.figure(figsize = (18,8))\n",
    "sns.distplot(sampled_attempts, color = 'red')\n",
    "kwargs = {'c': 'darkgreen',\n",
    "          'label': 'average length',\n",
    "          'linewidth': 10\n",
    "        }\n",
    "plt.axvline(x = attempts.mean(), ymax = 0.9, **kwargs)\n",
    "\n",
    "kwargs = {'c': 'red',\n",
    "          'label': 'alpha',\n",
    "          'linewidth': 10\n",
    "        }\n",
    "plt.axvline(x = upper_bound, ymax = 1, **kwargs)\n",
    "\n",
    "kwargs = {'c': 'lightgreen',\n",
    "          'label': 'Sean\\'s prediction',\n",
    "          'linewidth': 10\n",
    "        }\n",
    "plt.axvline(x = seans_mean, ymax = 0.9, **kwargs)\n",
    "\n",
    "plt.xticks(xticks, xlabels)\n",
    "plt.xlabel('Length of attempt in days')\n",
    "plt.title('Resampled Attempts Distribution')\n",
    "plt.legend()\n",
    "plt.show()"
   ]
  },
  {
   "cell_type": "markdown",
   "metadata": {},
   "source": [
    "In this distribution we can see just how far away Sean's guess is from the observed. It's way outside the range of values that would not be statistically significant.\n",
    "\n",
    "Sean's guess was right. It would be better to torture humans the old-fashioned way, e.g.:"
   ]
  },
  {
   "cell_type": "code",
   "execution_count": null,
   "metadata": {},
   "outputs": [],
   "source": [
    "#I was just torturing William Shakespeare...\n",
    "shakespeare = ['Entourage']\n",
    "shakespeare_lines = find_lines(shakespeare, scripts)\n",
    "print_lines(titles, shakespeare_lines)"
   ]
  },
  {
   "cell_type": "markdown",
   "metadata": {},
   "source": [
    "Michael is frustrated that his experiment didn't go the way he wanted."
   ]
  },
  {
   "cell_type": "code",
   "execution_count": null,
   "metadata": {},
   "outputs": [],
   "source": [
    "#Saddest moment\n",
    "saddest = ['saddest']\n",
    "saddest_lines = find_lines(saddest, scripts)\n",
    "print_lines(titles, saddest_lines)"
   ]
  },
  {
   "cell_type": "markdown",
   "metadata": {},
   "source": [
    "The main insight taken from this experiment is that people are apparently good. It is such a paradigm shift for Michael that it takes him most of the second season to understand."
   ]
  },
  {
   "cell_type": "code",
   "execution_count": null,
   "metadata": {},
   "outputs": [],
   "source": [
    "#people good people good\n",
    "people_good = ['People good']\n",
    "people_good_lines = find_lines(people_good, scripts)\n",
    "print_lines(titles, people_good_lines)"
   ]
  },
  {
   "cell_type": "markdown",
   "metadata": {},
   "source": [
    "# Chidi and Eleanor fall in love\n",
    "\n",
    "The weirdest insight to arise from Michael's experiment was that two humans who were hand-selected to torture each other could turn out to be soulmates. They only fell in love once, but I was interested to explore what this rare event meant probabilistically."
   ]
  },
  {
   "cell_type": "code",
   "execution_count": null,
   "metadata": {},
   "outputs": [],
   "source": [
    "falling = ['have feelings for', 'I love you', 'I think I love you', 'mates']\n",
    "falling_lines = find_lines(falling, scripts)\n",
    "print_lines(titles, falling_lines)"
   ]
  },
  {
   "cell_type": "markdown",
   "metadata": {},
   "source": [
    "s02e04, Team Cockroach'\n",
    "\n",
    "Eleanor: 'How many times in all the reboots did I ask Chidi for help, he refused to help me and then I had to get better on my own?'\n",
    "Michael: 'Never. He always helped you.'\n",
    "Eleanor: 'God. Really?'\n",
    "Michael: ' Yep. No matter how I set it up, you found him, confessed you didn't belong, asked him for help, and he said yes. Now his agreeing to help was part of my plan. What wasn't part of my plan was it actually working. Drove me nuts. Pesky little nerd.')\n",
    "\n",
    "s03e07, A Fractured Inheritance\n",
    "\n",
    " (337,\n",
    "  ' In one of the reboots, you and Chidi fell in love deeply, and you told him that you loved him, and he told you that he loved you back.')#Mihael tells Eleanor about falling in love with Chidi in reboot 119\n",
    "\n",
    "s03e08, The Worst Possible Use of Free Will\n",
    "\n",
    "Michael: 'So now I can show you the highlights of reboot 119.'\n",
    "Eleanor: 'Oh, yeah? We know this is, like, the hundredth time you've tried to torture us, but this time it's different, because we're in love. And love is stronger than anything you can throw at us. No matter what he does, we will find each other, and we will help each other, because we're soul mates.'\n",
    "Michael: 'I put you and Chidi in close proximity, because I needed you to drive each other crazy. But I never intended for you to fall in love.'\n",
    "\n",
    "### Reconstructing a probability distribution\n",
    "\n",
    "All we really know is that they fell in love once out of 801 attempts. Visualizing it gives us a sense of the rarity of the event."
   ]
  },
  {
   "cell_type": "code",
   "execution_count": 6,
   "metadata": {
    "scrolled": false
   },
   "outputs": [
    {
     "data": {
      "image/png": "[encoded data removed]",
      "text/plain": [
       "<Figure size 1296x576 with 1 Axes>"
      ]
     },
     "metadata": {
      "needs_background": "light"
     },
     "output_type": "display_data"
    }
   ],
   "source": [
    "#Plot attempts with one success at being soulmates\n",
    "fig = plt.figure(figsize = (18,8))\n",
    "plt.grid()\n",
    "kwargs = {'alpha': 0.5}\n",
    "plt.bar(range(pop_size), attempts, color = 'red', **kwargs)\n",
    "#Attempt 119 (soulmates) in green\n",
    "kwargs = {'color': 'green',\n",
    "          'label': 'soulmates',\n",
    "          'linewidth': 10\n",
    "        }\n",
    "plt.axvline(x = 119, ymax = 0.6, **kwargs)\n",
    "plt.yticks(yticks, ylabels)\n",
    "plt.title('Successful attempts to fall in love')\n",
    "plt.show()"
   ]
  },
  {
   "cell_type": "markdown",
   "metadata": {},
   "source": [
    "(A real probability distribution for this event would be difficult to interpret.)\n",
    "\n",
    "We don't know the probability of success in one trial, but we can get some perspective on it by looking at a couple guesses. We'll see what it looks like for a soulmate statistic of 1/81, 1/801, and 1/8001 when you have 801 trials."
   ]
  },
  {
   "cell_type": "code",
   "execution_count": 8,
   "metadata": {},
   "outputs": [],
   "source": [
    "n = 801 #Number of trials \n",
    "k = np.arange(n) #X axis for the plot\n",
    "\n",
    "p81 = (1/81)\n",
    "binom81 = stats.binom.pmf(k, n, p81)\n",
    "sim81 = stats.binom.rvs(n, p81, size = 801)\n",
    "c81 = 'orange'\n",
    "\n",
    "p801 = (1/801)\n",
    "binom801 = stats.binom.pmf(k, n, p801)\n",
    "sim801 = stats.binom.rvs(n, p801, size = 801)\n",
    "c801 = 'red'\n",
    "\n",
    "p8001 = (1/8001)\n",
    "binom8001 = stats.binom.pmf(k, n, p8001)\n",
    "sim8001 = stats.binom.rvs(n, p8001, size = 801)\n",
    "c8001 = 'gray'"
   ]
  },
  {
   "cell_type": "code",
   "execution_count": 25,
   "metadata": {},
   "outputs": [
    {
     "data": {
      "image/png": "[encoded data removed]",
      "text/plain": [
       "<Figure size 1224x720 with 1 Axes>"
      ]
     },
     "metadata": {
      "needs_background": "light"
     },
     "output_type": "display_data"
    }
   ],
   "source": [
    "#Showing all 801 trials would make the plot hard\n",
    "#to read, so we'll only see 12 trials.\n",
    "xmax = 12\n",
    "x = np.arange(xmax)\n",
    "\n",
    "#Draw figure\n",
    "fig = plt.figure(figsize = (17,10))\n",
    "\n",
    "#Plot soulmate statistic as 1/81\n",
    "plt.plot(x, binom81[:xmax], color = c81, label = '1/81')\n",
    "kwargs = {'color': c81, 'alpha': 0.5}\n",
    "plt.axvline(sim81.mean(), **kwargs)\n",
    "plt.fill_between(x, 0, binom81[:xmax], **kwargs)\n",
    "\n",
    "#Plot soulmate statistic as 1/801\n",
    "plt.plot(x, binom801[:xmax], color = c801, label = '1/801')\n",
    "kwargs = {'color': c801, 'alpha': 0.5}\n",
    "plt.axvline(sim801.mean(), **kwargs)\n",
    "plt.fill_between(x, 0, binom801[:xmax], **kwargs)\n",
    "\n",
    "#Plot soulmate statistic as 1/8001\n",
    "plt.plot(x, binom8001[:xmax], color = c8001, label = '1/8001')\n",
    "kwargs = {'color': c8001, 'alpha': 0.5}\n",
    "plt.axvline(sim8001.mean(), **kwargs)\n",
    "plt.fill_between(x, 0, binom8001[:xmax], **kwargs)\n",
    "\n",
    "#Labels\n",
    "plt.xlabel('Number of successes')\n",
    "plt.ylabel('Probability of success')\n",
    "plt.legend()\n",
    "plt.title('Soulmate successes in 801 trials')\n",
    "#Draw plot\n",
    "plt.show()"
   ]
  },
  {
   "cell_type": "markdown",
   "metadata": {},
   "source": [
    "The plot shows that our 1 observed success in 801 trials would be very unlikely with a soulmate statistic of 1/81 and 1/8001. (Unlucky in the former, lucky in the latter.)"
   ]
  },
  {
   "cell_type": "code",
   "execution_count": null,
   "metadata": {},
   "outputs": [],
   "source": [
    "#That wasn't me who fell in love with you.\n",
    "wasnt = ['Wikipedia']\n",
    "wasnt_lines = find_lines(wasnt, scripts)\n",
    "print_lines(titles, wasnt_lines)"
   ]
  },
  {
   "cell_type": "markdown",
   "metadata": {},
   "source": [
    "season 3 episode 10\n",
    "\n",
    " (147, ' Conceptions of the self.'),\n",
    " (148,\n",
    "  \" Let's start with John Locke, who believed that personal identity was based on having a continued consciousness essentially, memory.\"),\n",
    " (149, ' Memories are links in a chain that together form a single self.'),\n",
    " (150,\n",
    "  \" If I can't remember what happened because it happened to a Chidi from another timeline, it's not a unified me.\"),\n",
    " (151,\n",
    "  \" Just because you don't remember doing something doesn't mean you didn't do it.\"),\n",
    " (152,\n",
    "  ' I have no idea how it happened, but there is definitely a tattoo on my butt that says \"Jasom.'),\n",
    " (153, '\" That leads us to Derek Parfit.'),\n",
    " (154,\n",
    "  \" - It does? - Parfit said even if I have memories from an earlier time, that doesn't necessarily mean it was me.\"),\n",
    " (155,\n",
    "  \" After all, if my brain was split in two and each half was put in a different person, which one is me? All I know is that other Chidi doesn't exist anymore, and this one does.\"),\n",
    " (156, ' So this must be the real Chidi.')\n",
    " \n",
    "### So are they in love now or not?\n",
    "\n",
    "Eleanor discounts the rarity of the falling-in-love event by insisting that she and Chidi are soulmates. It's a big leap for Chidi to accept that something he did in an unremembered earlier life can impact his current life."
   ]
  },
  {
   "cell_type": "markdown",
   "metadata": {},
   "source": [
    "# The perfect system\n",
    "\n",
    "One conclusion to be drawn from the show is that we should be careful not to over-trust and over-apply our data. Our systems are not perfect. The immortals running the Good and Bad Places trust their system too much. It is mentioned over and over."
   ]
  },
  {
   "cell_type": "code",
   "execution_count": null,
   "metadata": {},
   "outputs": [],
   "source": [
    "the_system = ['system']\n",
    "system_lines = find_lines(the_system, scripts)\n",
    "print_lines(titles, system_lines)"
   ]
  },
  {
   "cell_type": "markdown",
   "metadata": {},
   "source": [
    "s01e01, Everything Is Fine\n",
    "\n",
    "(64, ' [laughter] Anyway, when your time on Earth has ended, we calculate the total value of your life using our perfectly accurate measuring system.')\n",
    "(83, \" Again, it's an incredibly selective system.\")\n",
    "(370, \" See, that's the trouble with these perfect systems.\")\n",
    "\n",
    "s01e08, Most Improved Player\n",
    "\n",
    "(4, \" Our system has never made a mistake before It's just not possible.\")\n",
    "\n",
    "\n",
    "s02e01, Everything is Great!\n",
    "\n",
    "(180, \" Now, normally, our omniscient system perfectly analyzes each person's profile, and then matches him or her with another person.\")\n",
    "\n",
    "s03e010, Janet(s)\n",
    "\n",
    "(136, ' [whooshing] The system is flawless, and tampering is quite impossible.')"
   ]
  },
  {
   "cell_type": "markdown",
   "metadata": {},
   "source": [
    "# The Time-Knife\n",
    "\n",
    "In my article I imagine different kinds of infinity. I got the idea from the Time-Knife."
   ]
  },
  {
   "cell_type": "code",
   "execution_count": null,
   "metadata": {},
   "outputs": [],
   "source": [
    "#Time-Kinfe\n",
    "timeknife = ['Time-Knife']\n",
    "timeknife_lines = find_lines(timeknife, scripts)\n",
    "print_lines(titles, timeknife_lines)"
   ]
  },
  {
   "cell_type": "markdown",
   "metadata": {},
   "source": [
    "# Boat on a lake\n",
    "\n",
    "The closing image in my article is of Eleanor and Chidi in a boat on a lake. I found this significant because it was so different from the boat on the lake was first brought up."
   ]
  },
  {
   "cell_type": "code",
   "execution_count": null,
   "metadata": {},
   "outputs": [],
   "source": [
    "#Boat on a lake, red wine, French poetry\n",
    "redwine = ['poetry']\n",
    "redwine_lines = find_lines(redwine, scripts)\n",
    "print_lines(titles, redwine_lines)"
   ]
  },
  {
   "cell_type": "markdown",
   "metadata": {},
   "source": [
    "# Future work: Janet\n",
    "\n",
    "I didn't get to use this for my article on soulmates but it interesting to think about. Could be good for another article. Who or what is Janet, really?"
   ]
  },
  {
   "cell_type": "code",
   "execution_count": null,
   "metadata": {},
   "outputs": [],
   "source": [
    "janet = ['janet', 'robot', 'know everything about', 'knowledge', 'updat', 'database']\n",
    "janet_lines = find_lines(janet, scripts)\n",
    "print_lines(titles, janet_lines)"
   ]
  },
  {
   "cell_type": "markdown",
   "metadata": {},
   "source": [
    "s01e01, Everything Is Fine\n",
    "\n",
    "(161, \" She's like this walking database.\")\n",
    "\n",
    "s01e07, The Eternal Shriek\n",
    "\n",
    "(181, ' Each new update of Janet gains more wisdom and social abilities.')\n",
    "(207, ' I am simply an anthropomorphized vessel of knowledge built to make your life easier.')\n",
    "(272, \" Uh, her memory must have been wiped clean, so now she's gonna have to re-upload all the knowledge in the universe, which will only take a few days.\")\n",
    "\n",
    "s01e09\n",
    "(146, \" I mean, it does matter if I know things, because I'm an informational delivery system, and I don't have a heart, but thanks.\")\n",
    "\n",
    "s01e10, Chidi's Choice\n",
    "\n",
    "(288, '\" - [gags] - \"Jacksonville Jaguars rule!\" Jason, when I was rebooted, and I lost all my knowledge, I was confused and disoriented, but you were always kind to me.')\n",
    "\n",
    "s01e11, What's My Motivation\n",
    "\n",
    "(113, ' As you know, each time I am updated, I accrue new knowledge and abilities.')\n",
    "\n",
    "s02e06, The Trolley Problem\n",
    "\n",
    "(75, ' I am simply a vessel containing all of the knowledge in the universe.')\n",
    "\n",
    "s02e07, Janet and Michael\n",
    "\n",
    "(191, ' Say what now? After the very first time you were rebooted, and as you were slowly regaining your knowledge, you bonded with Jason.')\n",
    "\n",
    "(358, \" You contain all the knowledge in the universe, you have a rippin' bod, and you can literally do anything.\")\n",
    "\n",
    "s02e10, Best Self\n",
    "\n",
    "(138, ' In case you were wondering, I am by definition the best version of myself, because my operating system is always updating.')\n",
    "\n",
    "s02e12, The Burrito\n",
    "\n",
    "(47, \" Wait, you don't already know everything about us? You're not omniscient? Well Not in the way you mean.\")\n",
    "\n",
    "s03e03, The Brainy Bunch\n",
    "\n",
    "(127, ' Ever since we walked through that portal, my knowledge has stopped updating.')\n",
    "\n",
    "s03e06, The Ballad of Donkey Doug\n",
    "\n",
    "(29, ' I do know everything about you and Simone and computer programming and virtual reality and artificial intelligence and the human brain and everything else.')\n",
    "\n",
    "s03e13, Pandemonium\n",
    "\n",
    "(43, ' Janet is a walking database of all the knowledge in the universe, and since you, John, seem to like asking a relentless number of questions, go ahead.')"
   ]
  },
  {
   "cell_type": "markdown",
   "metadata": {},
   "source": [
    "# Future work: the points system\n",
    "\n",
    "If you'd like to investigate the point system, and maybe figure out how many points it takes to get into the Good Place, you can use this code. I couldn't figure it out based on the dialogue available in seasons 1 through 3."
   ]
  },
  {
   "cell_type": "code",
   "execution_count": null,
   "metadata": {},
   "outputs": [],
   "source": [
    "points = [' points', ' earn', ' lose', 'lost', 'losing']\n",
    "points_lines = find_lines(points, number_lines)\n",
    "print_lines(titles, points_lines)"
   ]
  },
  {
   "cell_type": "markdown",
   "metadata": {},
   "source": [
    "s01e11, What's My Motivation\n",
    "\n",
    "(9, ' Now, the average point total for a resident here is roughly 1.2 million.')\n",
    " \n",
    "s3e10, Janet(s)\n",
    " \n",
    " (165,\n",
    "  \" Can you just tell me his total so far? Looks like he's at 520,000 points.\"),\n",
    " (166, ' - Well done, Doug.'),\n",
    " (167, \" - So that's that's good? Oh, it's excellent.\"),\n",
    " (168, \" Wait, he's 68 years old? Oh, that's terrible.\"),\n",
    " (169, \" He's screwed.\"),"
   ]
  },
  {
   "cell_type": "code",
   "execution_count": null,
   "metadata": {},
   "outputs": [],
   "source": []
  }
 ],
 "metadata": {
  "kernelspec": {
   "display_name": "learn-env",
   "language": "python",
   "name": "learn-env"
  },
  "language_info": {
   "codemirror_mode": {
    "name": "ipython",
    "version": 3
   },
   "file_extension": ".py",
   "mimetype": "text/x-python",
   "name": "python",
   "nbconvert_exporter": "python",
   "pygments_lexer": "ipython3",
   "version": "3.7.0"
  }
 },
 "nbformat": 4,
 "nbformat_minor": 2
}
